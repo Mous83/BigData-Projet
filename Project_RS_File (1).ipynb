{
  "nbformat": 4,
  "nbformat_minor": 0,
  "metadata": {
    "colab": {
      "provenance": []
    },
    "kernelspec": {
      "name": "python3",
      "display_name": "Python 3"
    },
    "language_info": {
      "name": "python"
    }
  },
  "cells": [
    {
      "cell_type": "markdown",
      "source": [
        "# Project: Intrusion Detection System Using Machine Learning\n",
        "## Project Overview:\n",
        "In this project, you will work on a dataset commonly used for network intrusion detection.\n",
        "The dataset contains network traffic data, including both normal and attack behaviors. Your\n",
        "objective is to build and evaluate a machine learning model that can classify different types\n",
        "of network activities as several types (multi-class classification). This project will test\n",
        "your ability to choose appropriate algorithms, preprocess data, and evaluate model\n",
        "performance.\n"
      ],
      "metadata": {
        "id": "qxFLC3ZvNxs4"
      }
    },
    {
      "cell_type": "markdown",
      "source": [
        "## 1 - Data Preprocessing"
      ],
      "metadata": {
        "id": "SQ4aBbBv8VZJ"
      }
    },
    {
      "cell_type": "markdown",
      "source": [
        "### 1. Loading and Generating the Dataset"
      ],
      "metadata": {
        "id": "x_O_yKC_OrSS"
      }
    },
    {
      "cell_type": "markdown",
      "source": [
        " **1.1 Upload Dataset_project_RS.csv to Colab\n",
        "Upload the Dataset_project_RS.csv file to the Google Colab environment.**\n",
        "\n",
        "**1.2 Use the data_generator.py Script\n",
        "Since we're working in Colab, you can adapt the data_generator.py script directly in our notebook.**"
      ],
      "metadata": {
        "id": "D0mGC4SCPBZD"
      }
    },
    {
      "cell_type": "code",
      "execution_count": 9,
      "metadata": {
        "colab": {
          "base_uri": "https://localhost:8080/"
        },
        "id": "VHOEeuh2K1Pq",
        "outputId": "9ae4243a-19e8-4ff5-fce6-656eb8e3b162"
      },
      "outputs": [
        {
          "output_type": "stream",
          "name": "stdout",
          "text": [
            "Initial data shape: (125973, 44)\n",
            "Shape after separating target column: (125973, 43)\n",
            "Shape after dropping columns: (125973, 33)\n",
            "Number of rows selected: 44538\n",
            "Final shape of the generated data: (44538, 34)\n",
            "Generated dataset shape: (44538, 34)\n",
            "Preview of generated dataset:\n",
            "        Unnamed: 0  duration protocol_type      service flag  src_bytes  land  \\\n",
            "78997       78997         0           tcp         smtp   SF       2710     0   \n",
            "50844       50844         0           tcp         http   SF        231     0   \n",
            "66861       66861         0           tcp  netbios_dgm   S0          0     0   \n",
            "98857       98857         0           udp     domain_u   SF         43     0   \n",
            "46580       46580       575           udp        other   SF        145     0   \n",
            "\n",
            "       wrong_fragment  urgent  hot  ...  srv_diff_host_rate  dst_host_count  \\\n",
            "78997               0       0    0  ...                0.00             255   \n",
            "50844               0       0    0  ...                0.00              19   \n",
            "66861               0       0    0  ...                0.00             255   \n",
            "98857               0       0    0  ...                0.01             255   \n",
            "46580               0       0    0  ...                0.00             255   \n",
            "\n",
            "       dst_host_srv_count  dst_host_diff_srv_rate  \\\n",
            "78997                  28                    0.50   \n",
            "50844                 255                    0.00   \n",
            "66861                  18                    0.07   \n",
            "98857                 218                    0.02   \n",
            "46580                   2                    0.66   \n",
            "\n",
            "       dst_host_same_src_port_rate  dst_host_srv_diff_host_rate  \\\n",
            "78997                         0.00                         0.00   \n",
            "50844                         0.05                         0.08   \n",
            "66861                         0.00                         0.00   \n",
            "98857                         0.00                         0.00   \n",
            "46580                         0.95                         0.00   \n",
            "\n",
            "       dst_host_srv_serror_rate  dst_host_rerror_rate  level  outcome  \n",
            "78997                       0.0                   0.0     20   normal  \n",
            "50844                       0.0                   0.0     21   normal  \n",
            "66861                       1.0                   0.0     19  neptune  \n",
            "98857                       0.0                   0.0     18   normal  \n",
            "46580                       0.0                   0.0     21   normal  \n",
            "\n",
            "[5 rows x 34 columns]\n"
          ]
        }
      ],
      "source": [
        "# Import necessary libraries\n",
        "import numpy as np\n",
        "import pandas as pd\n",
        "\n",
        "# Set the seed for reproducibility\n",
        "np.random.seed(107)\n",
        "\n",
        "# Define the data generator function\n",
        "def data_generator(data):\n",
        "    \"\"\"\n",
        "    Generates a modified dataset by randomly dropping columns and sampling rows.\n",
        "\n",
        "    @param data: Original dataset with features and a target column 'outcome'\n",
        "    @return: A modified dataset with fewer columns and a subset of rows\n",
        "    \"\"\"\n",
        "    print(\"Initial data shape:\", data.shape)\n",
        "\n",
        "    # Separate target column ('outcome') from features\n",
        "    y = data['outcome']\n",
        "    X = data.drop(['outcome'], axis=1)\n",
        "    print(\"Shape after separating target column:\", X.shape)\n",
        "\n",
        "    # Randomly drop 10 columns from the features\n",
        "    indexes_cols_drop = np.random.randint(len(X.columns), size=10)\n",
        "    columns = list(X.columns)\n",
        "    X = X.drop([columns[i] for i in range(len(columns)) if i in indexes_cols_drop], axis=1)\n",
        "    print(\"Shape after dropping columns:\", X.shape)\n",
        "\n",
        "    # Randomly select a subset of rows, ensuring at least 7000 rows are retained\n",
        "    nb_rows = np.random.randint(7000, len(X))\n",
        "    indexes_rows = np.random.randint(len(X), size=nb_rows)\n",
        "    print(f\"Number of rows selected: {nb_rows}\")\n",
        "\n",
        "    # Recombine the features and target into one dataset\n",
        "    data_for_project = pd.concat([X, y], axis=1)\n",
        "    data_for_project = data_for_project.loc[indexes_rows, :]\n",
        "    print(\"Final shape of the generated data:\", data_for_project.shape)\n",
        "\n",
        "    return data_for_project\n",
        "\n",
        "# Load the initial dataset\n",
        "data = pd.read_csv(\"Dataset_project_RS.csv\")\n",
        "\n",
        "# Generate the modified dataset\n",
        "data_for_project = data_generator(data)\n",
        "\n",
        "# Display the shape and first few rows of the generated dataset\n",
        "print(\"Generated dataset shape:\", data_for_project.shape)\n",
        "print(\"Preview of generated dataset:\\n\", data_for_project.head())\n",
        "\n",
        "# Save the generated dataset to avoid re-running the generator\n",
        "data_for_project.to_csv('datasetGenerated.csv', index=False)"
      ]
    },
    {
      "cell_type": "markdown",
      "source": [
        "**1.3 Verify the Generated Dataset\n",
        "Check the shape and columns of your generated dataset.**"
      ],
      "metadata": {
        "id": "M1uK9EgsQ2wH"
      }
    },
    {
      "cell_type": "code",
      "source": [
        "print(\"Dataset shape:\", data_for_project.shape)\n",
        "print(\"Dataset columns:\", data_for_project.columns)"
      ],
      "metadata": {
        "colab": {
          "base_uri": "https://localhost:8080/"
        },
        "id": "qCBEo40tRZoZ",
        "outputId": "964b49b2-0289-48e6-9a8c-0a9aa9dc5cf9"
      },
      "execution_count": 10,
      "outputs": [
        {
          "output_type": "stream",
          "name": "stdout",
          "text": [
            "Dataset shape: (44538, 34)\n",
            "Dataset columns: Index(['Unnamed: 0', 'duration', 'protocol_type', 'service', 'flag',\n",
            "       'src_bytes', 'land', 'wrong_fragment', 'urgent', 'hot', 'logged_in',\n",
            "       'num_compromised', 'num_file_creations', 'num_access_files',\n",
            "       'num_outbound_cmds', 'is_host_login', 'is_guest_login', 'count',\n",
            "       'srv_count', 'srv_serror_rate', 'rerror_rate', 'srv_rerror_rate',\n",
            "       'same_srv_rate', 'diff_srv_rate', 'srv_diff_host_rate',\n",
            "       'dst_host_count', 'dst_host_srv_count', 'dst_host_diff_srv_rate',\n",
            "       'dst_host_same_src_port_rate', 'dst_host_srv_diff_host_rate',\n",
            "       'dst_host_srv_serror_rate', 'dst_host_rerror_rate', 'level', 'outcome'],\n",
            "      dtype='object')\n"
          ]
        }
      ]
    },
    {
      "cell_type": "markdown",
      "source": [
        "The output shows the generated dataset, `data_for_project`, has the following characteristics:\n",
        "\n",
        "- **Shape**: 44,538 rows and 34 columns\n",
        "- **Columns**: 34 feature names, including the target column, `outcome`\n",
        "\n",
        "This indicates that the data generator function has successfully modified the initial dataset by dropping 10 random columns and sampling a subset of rows. The resulting dataset has fewer rows and columns than the original, making it suitable for further analysis while maintaining a representative subset of the data."
      ],
      "metadata": {
        "id": "UCQVCc9m3nqT"
      }
    },
    {
      "cell_type": "markdown",
      "source": [
        "It appears that one column, Unnamed: 0, might be an index column from the original dataset, which is typically not needed for modeling."
      ],
      "metadata": {
        "id": "Et5QQ1B33vCK"
      }
    },
    {
      "cell_type": "code",
      "source": [
        "# Drop the 'Unnamed: 0' column as it only serves as an index\n",
        "data_for_project = data_for_project.drop(columns=['Unnamed: 0'])\n",
        "print(\"Updated dataset shape:\", data_for_project.shape)\n",
        "print(\"Columns in the dataset after removing 'Unnamed: 0':\", data_for_project.columns)"
      ],
      "metadata": {
        "colab": {
          "base_uri": "https://localhost:8080/"
        },
        "id": "ogsp__c73s7N",
        "outputId": "ee86b280-fce1-4bc1-b64a-fef14c1bfc3c"
      },
      "execution_count": 11,
      "outputs": [
        {
          "output_type": "stream",
          "name": "stdout",
          "text": [
            "Updated dataset shape: (44538, 33)\n",
            "Columns in the dataset after removing 'Unnamed: 0': Index(['duration', 'protocol_type', 'service', 'flag', 'src_bytes', 'land',\n",
            "       'wrong_fragment', 'urgent', 'hot', 'logged_in', 'num_compromised',\n",
            "       'num_file_creations', 'num_access_files', 'num_outbound_cmds',\n",
            "       'is_host_login', 'is_guest_login', 'count', 'srv_count',\n",
            "       'srv_serror_rate', 'rerror_rate', 'srv_rerror_rate', 'same_srv_rate',\n",
            "       'diff_srv_rate', 'srv_diff_host_rate', 'dst_host_count',\n",
            "       'dst_host_srv_count', 'dst_host_diff_srv_rate',\n",
            "       'dst_host_same_src_port_rate', 'dst_host_srv_diff_host_rate',\n",
            "       'dst_host_srv_serror_rate', 'dst_host_rerror_rate', 'level', 'outcome'],\n",
            "      dtype='object')\n"
          ]
        }
      ]
    },
    {
      "cell_type": "markdown",
      "source": [
        "### 2. Data Preprocessing\n",
        "We can now proceed with data processing with (data_for_project).\n",
        "\n",
        "**2.1 Exploratory Data Analysis (EDA)**\n",
        "\n",
        "View Basic Information"
      ],
      "metadata": {
        "id": "fkrRrqYdRcib"
      }
    },
    {
      "cell_type": "code",
      "source": [
        "data_for_project.info()\n",
        "data_for_project.describe()"
      ],
      "metadata": {
        "colab": {
          "base_uri": "https://localhost:8080/",
          "height": 1000
        },
        "id": "72mkwNXSRot1",
        "outputId": "73fbc4ed-7a5c-4786-d04b-d4164b87c021"
      },
      "execution_count": 12,
      "outputs": [
        {
          "output_type": "stream",
          "name": "stdout",
          "text": [
            "<class 'pandas.core.frame.DataFrame'>\n",
            "Index: 44538 entries, 78997 to 8086\n",
            "Data columns (total 33 columns):\n",
            " #   Column                       Non-Null Count  Dtype  \n",
            "---  ------                       --------------  -----  \n",
            " 0   duration                     44538 non-null  int64  \n",
            " 1   protocol_type                44538 non-null  object \n",
            " 2   service                      44538 non-null  object \n",
            " 3   flag                         44538 non-null  object \n",
            " 4   src_bytes                    44538 non-null  int64  \n",
            " 5   land                         44538 non-null  int64  \n",
            " 6   wrong_fragment               44538 non-null  int64  \n",
            " 7   urgent                       44538 non-null  int64  \n",
            " 8   hot                          44538 non-null  int64  \n",
            " 9   logged_in                    44538 non-null  int64  \n",
            " 10  num_compromised              44538 non-null  int64  \n",
            " 11  num_file_creations           44538 non-null  int64  \n",
            " 12  num_access_files             44538 non-null  int64  \n",
            " 13  num_outbound_cmds            44538 non-null  int64  \n",
            " 14  is_host_login                44538 non-null  int64  \n",
            " 15  is_guest_login               44538 non-null  int64  \n",
            " 16  count                        44538 non-null  int64  \n",
            " 17  srv_count                    44538 non-null  int64  \n",
            " 18  srv_serror_rate              44538 non-null  float64\n",
            " 19  rerror_rate                  44538 non-null  float64\n",
            " 20  srv_rerror_rate              44538 non-null  float64\n",
            " 21  same_srv_rate                44538 non-null  float64\n",
            " 22  diff_srv_rate                44538 non-null  float64\n",
            " 23  srv_diff_host_rate           44538 non-null  float64\n",
            " 24  dst_host_count               44538 non-null  int64  \n",
            " 25  dst_host_srv_count           44538 non-null  int64  \n",
            " 26  dst_host_diff_srv_rate       44538 non-null  float64\n",
            " 27  dst_host_same_src_port_rate  44538 non-null  float64\n",
            " 28  dst_host_srv_diff_host_rate  44538 non-null  float64\n",
            " 29  dst_host_srv_serror_rate     44538 non-null  float64\n",
            " 30  dst_host_rerror_rate         44538 non-null  float64\n",
            " 31  level                        44538 non-null  int64  \n",
            " 32  outcome                      44538 non-null  object \n",
            "dtypes: float64(11), int64(18), object(4)\n",
            "memory usage: 11.6+ MB\n"
          ]
        },
        {
          "output_type": "execute_result",
          "data": {
            "text/plain": [
              "           duration     src_bytes          land  wrong_fragment        urgent  \\\n",
              "count  44538.000000  4.453800e+04  44538.000000    44538.000000  44538.000000   \n",
              "mean     289.918160  6.898648e+04      0.000157        0.022340      0.000067   \n",
              "std     2590.897492  8.569672e+06      0.012536        0.252467      0.014215   \n",
              "min        0.000000  0.000000e+00      0.000000        0.000000      0.000000   \n",
              "25%        0.000000  0.000000e+00      0.000000        0.000000      0.000000   \n",
              "50%        0.000000  4.400000e+01      0.000000        0.000000      0.000000   \n",
              "75%        0.000000  2.710000e+02      0.000000        0.000000      0.000000   \n",
              "max    42908.000000  1.379964e+09      1.000000        3.000000      3.000000   \n",
              "\n",
              "                hot     logged_in  num_compromised  num_file_creations  \\\n",
              "count  44538.000000  44538.000000     44538.000000        44538.000000   \n",
              "mean       0.218892      0.397773         0.232139            0.012080   \n",
              "std        2.220348      0.489444        11.438215            0.451563   \n",
              "min        0.000000      0.000000         0.000000            0.000000   \n",
              "25%        0.000000      0.000000         0.000000            0.000000   \n",
              "50%        0.000000      0.000000         0.000000            0.000000   \n",
              "75%        0.000000      1.000000         0.000000            0.000000   \n",
              "max       33.000000      1.000000       884.000000           40.000000   \n",
              "\n",
              "       num_access_files  ...  diff_srv_rate  srv_diff_host_rate  \\\n",
              "count      44538.000000  ...   44538.000000        44538.000000   \n",
              "mean           0.003839  ...       0.062803            0.097329   \n",
              "std            0.089949  ...       0.180408            0.259763   \n",
              "min            0.000000  ...       0.000000            0.000000   \n",
              "25%            0.000000  ...       0.000000            0.000000   \n",
              "50%            0.000000  ...       0.000000            0.000000   \n",
              "75%            0.000000  ...       0.060000            0.000000   \n",
              "max            8.000000  ...       1.000000            1.000000   \n",
              "\n",
              "       dst_host_count  dst_host_srv_count  dst_host_diff_srv_rate  \\\n",
              "count    44538.000000        44538.000000             44538.00000   \n",
              "mean       181.811217          116.267682                 0.08236   \n",
              "std         99.325798          110.837967                 0.18740   \n",
              "min          0.000000            0.000000                 0.00000   \n",
              "25%         81.000000           11.000000                 0.00000   \n",
              "50%        255.000000           63.000000                 0.02000   \n",
              "75%        255.000000          255.000000                 0.07000   \n",
              "max        255.000000          255.000000                 1.00000   \n",
              "\n",
              "       dst_host_same_src_port_rate  dst_host_srv_diff_host_rate  \\\n",
              "count                 44538.000000                 44538.000000   \n",
              "mean                      0.147088                     0.032113   \n",
              "std                       0.307111                     0.111266   \n",
              "min                       0.000000                     0.000000   \n",
              "25%                       0.000000                     0.000000   \n",
              "50%                       0.010000                     0.000000   \n",
              "75%                       0.060000                     0.020000   \n",
              "max                       1.000000                     1.000000   \n",
              "\n",
              "       dst_host_srv_serror_rate  dst_host_rerror_rate         level  \n",
              "count              44538.000000          44538.000000  44538.000000  \n",
              "mean                   0.277173              0.117622     19.527100  \n",
              "std                    0.444969              0.305448      2.270233  \n",
              "min                    0.000000              0.000000      0.000000  \n",
              "25%                    0.000000              0.000000     18.000000  \n",
              "50%                    0.000000              0.000000     21.000000  \n",
              "75%                    1.000000              0.000000     21.000000  \n",
              "max                    1.000000              1.000000     21.000000  \n",
              "\n",
              "[8 rows x 29 columns]"
            ],
            "text/html": [
              "\n",
              "  <div id=\"df-3bef339d-952f-4313-9038-36ab2ccce354\" class=\"colab-df-container\">\n",
              "    <div>\n",
              "<style scoped>\n",
              "    .dataframe tbody tr th:only-of-type {\n",
              "        vertical-align: middle;\n",
              "    }\n",
              "\n",
              "    .dataframe tbody tr th {\n",
              "        vertical-align: top;\n",
              "    }\n",
              "\n",
              "    .dataframe thead th {\n",
              "        text-align: right;\n",
              "    }\n",
              "</style>\n",
              "<table border=\"1\" class=\"dataframe\">\n",
              "  <thead>\n",
              "    <tr style=\"text-align: right;\">\n",
              "      <th></th>\n",
              "      <th>duration</th>\n",
              "      <th>src_bytes</th>\n",
              "      <th>land</th>\n",
              "      <th>wrong_fragment</th>\n",
              "      <th>urgent</th>\n",
              "      <th>hot</th>\n",
              "      <th>logged_in</th>\n",
              "      <th>num_compromised</th>\n",
              "      <th>num_file_creations</th>\n",
              "      <th>num_access_files</th>\n",
              "      <th>...</th>\n",
              "      <th>diff_srv_rate</th>\n",
              "      <th>srv_diff_host_rate</th>\n",
              "      <th>dst_host_count</th>\n",
              "      <th>dst_host_srv_count</th>\n",
              "      <th>dst_host_diff_srv_rate</th>\n",
              "      <th>dst_host_same_src_port_rate</th>\n",
              "      <th>dst_host_srv_diff_host_rate</th>\n",
              "      <th>dst_host_srv_serror_rate</th>\n",
              "      <th>dst_host_rerror_rate</th>\n",
              "      <th>level</th>\n",
              "    </tr>\n",
              "  </thead>\n",
              "  <tbody>\n",
              "    <tr>\n",
              "      <th>count</th>\n",
              "      <td>44538.000000</td>\n",
              "      <td>4.453800e+04</td>\n",
              "      <td>44538.000000</td>\n",
              "      <td>44538.000000</td>\n",
              "      <td>44538.000000</td>\n",
              "      <td>44538.000000</td>\n",
              "      <td>44538.000000</td>\n",
              "      <td>44538.000000</td>\n",
              "      <td>44538.000000</td>\n",
              "      <td>44538.000000</td>\n",
              "      <td>...</td>\n",
              "      <td>44538.000000</td>\n",
              "      <td>44538.000000</td>\n",
              "      <td>44538.000000</td>\n",
              "      <td>44538.000000</td>\n",
              "      <td>44538.00000</td>\n",
              "      <td>44538.000000</td>\n",
              "      <td>44538.000000</td>\n",
              "      <td>44538.000000</td>\n",
              "      <td>44538.000000</td>\n",
              "      <td>44538.000000</td>\n",
              "    </tr>\n",
              "    <tr>\n",
              "      <th>mean</th>\n",
              "      <td>289.918160</td>\n",
              "      <td>6.898648e+04</td>\n",
              "      <td>0.000157</td>\n",
              "      <td>0.022340</td>\n",
              "      <td>0.000067</td>\n",
              "      <td>0.218892</td>\n",
              "      <td>0.397773</td>\n",
              "      <td>0.232139</td>\n",
              "      <td>0.012080</td>\n",
              "      <td>0.003839</td>\n",
              "      <td>...</td>\n",
              "      <td>0.062803</td>\n",
              "      <td>0.097329</td>\n",
              "      <td>181.811217</td>\n",
              "      <td>116.267682</td>\n",
              "      <td>0.08236</td>\n",
              "      <td>0.147088</td>\n",
              "      <td>0.032113</td>\n",
              "      <td>0.277173</td>\n",
              "      <td>0.117622</td>\n",
              "      <td>19.527100</td>\n",
              "    </tr>\n",
              "    <tr>\n",
              "      <th>std</th>\n",
              "      <td>2590.897492</td>\n",
              "      <td>8.569672e+06</td>\n",
              "      <td>0.012536</td>\n",
              "      <td>0.252467</td>\n",
              "      <td>0.014215</td>\n",
              "      <td>2.220348</td>\n",
              "      <td>0.489444</td>\n",
              "      <td>11.438215</td>\n",
              "      <td>0.451563</td>\n",
              "      <td>0.089949</td>\n",
              "      <td>...</td>\n",
              "      <td>0.180408</td>\n",
              "      <td>0.259763</td>\n",
              "      <td>99.325798</td>\n",
              "      <td>110.837967</td>\n",
              "      <td>0.18740</td>\n",
              "      <td>0.307111</td>\n",
              "      <td>0.111266</td>\n",
              "      <td>0.444969</td>\n",
              "      <td>0.305448</td>\n",
              "      <td>2.270233</td>\n",
              "    </tr>\n",
              "    <tr>\n",
              "      <th>min</th>\n",
              "      <td>0.000000</td>\n",
              "      <td>0.000000e+00</td>\n",
              "      <td>0.000000</td>\n",
              "      <td>0.000000</td>\n",
              "      <td>0.000000</td>\n",
              "      <td>0.000000</td>\n",
              "      <td>0.000000</td>\n",
              "      <td>0.000000</td>\n",
              "      <td>0.000000</td>\n",
              "      <td>0.000000</td>\n",
              "      <td>...</td>\n",
              "      <td>0.000000</td>\n",
              "      <td>0.000000</td>\n",
              "      <td>0.000000</td>\n",
              "      <td>0.000000</td>\n",
              "      <td>0.00000</td>\n",
              "      <td>0.000000</td>\n",
              "      <td>0.000000</td>\n",
              "      <td>0.000000</td>\n",
              "      <td>0.000000</td>\n",
              "      <td>0.000000</td>\n",
              "    </tr>\n",
              "    <tr>\n",
              "      <th>25%</th>\n",
              "      <td>0.000000</td>\n",
              "      <td>0.000000e+00</td>\n",
              "      <td>0.000000</td>\n",
              "      <td>0.000000</td>\n",
              "      <td>0.000000</td>\n",
              "      <td>0.000000</td>\n",
              "      <td>0.000000</td>\n",
              "      <td>0.000000</td>\n",
              "      <td>0.000000</td>\n",
              "      <td>0.000000</td>\n",
              "      <td>...</td>\n",
              "      <td>0.000000</td>\n",
              "      <td>0.000000</td>\n",
              "      <td>81.000000</td>\n",
              "      <td>11.000000</td>\n",
              "      <td>0.00000</td>\n",
              "      <td>0.000000</td>\n",
              "      <td>0.000000</td>\n",
              "      <td>0.000000</td>\n",
              "      <td>0.000000</td>\n",
              "      <td>18.000000</td>\n",
              "    </tr>\n",
              "    <tr>\n",
              "      <th>50%</th>\n",
              "      <td>0.000000</td>\n",
              "      <td>4.400000e+01</td>\n",
              "      <td>0.000000</td>\n",
              "      <td>0.000000</td>\n",
              "      <td>0.000000</td>\n",
              "      <td>0.000000</td>\n",
              "      <td>0.000000</td>\n",
              "      <td>0.000000</td>\n",
              "      <td>0.000000</td>\n",
              "      <td>0.000000</td>\n",
              "      <td>...</td>\n",
              "      <td>0.000000</td>\n",
              "      <td>0.000000</td>\n",
              "      <td>255.000000</td>\n",
              "      <td>63.000000</td>\n",
              "      <td>0.02000</td>\n",
              "      <td>0.010000</td>\n",
              "      <td>0.000000</td>\n",
              "      <td>0.000000</td>\n",
              "      <td>0.000000</td>\n",
              "      <td>21.000000</td>\n",
              "    </tr>\n",
              "    <tr>\n",
              "      <th>75%</th>\n",
              "      <td>0.000000</td>\n",
              "      <td>2.710000e+02</td>\n",
              "      <td>0.000000</td>\n",
              "      <td>0.000000</td>\n",
              "      <td>0.000000</td>\n",
              "      <td>0.000000</td>\n",
              "      <td>1.000000</td>\n",
              "      <td>0.000000</td>\n",
              "      <td>0.000000</td>\n",
              "      <td>0.000000</td>\n",
              "      <td>...</td>\n",
              "      <td>0.060000</td>\n",
              "      <td>0.000000</td>\n",
              "      <td>255.000000</td>\n",
              "      <td>255.000000</td>\n",
              "      <td>0.07000</td>\n",
              "      <td>0.060000</td>\n",
              "      <td>0.020000</td>\n",
              "      <td>1.000000</td>\n",
              "      <td>0.000000</td>\n",
              "      <td>21.000000</td>\n",
              "    </tr>\n",
              "    <tr>\n",
              "      <th>max</th>\n",
              "      <td>42908.000000</td>\n",
              "      <td>1.379964e+09</td>\n",
              "      <td>1.000000</td>\n",
              "      <td>3.000000</td>\n",
              "      <td>3.000000</td>\n",
              "      <td>33.000000</td>\n",
              "      <td>1.000000</td>\n",
              "      <td>884.000000</td>\n",
              "      <td>40.000000</td>\n",
              "      <td>8.000000</td>\n",
              "      <td>...</td>\n",
              "      <td>1.000000</td>\n",
              "      <td>1.000000</td>\n",
              "      <td>255.000000</td>\n",
              "      <td>255.000000</td>\n",
              "      <td>1.00000</td>\n",
              "      <td>1.000000</td>\n",
              "      <td>1.000000</td>\n",
              "      <td>1.000000</td>\n",
              "      <td>1.000000</td>\n",
              "      <td>21.000000</td>\n",
              "    </tr>\n",
              "  </tbody>\n",
              "</table>\n",
              "<p>8 rows × 29 columns</p>\n",
              "</div>\n",
              "    <div class=\"colab-df-buttons\">\n",
              "\n",
              "  <div class=\"colab-df-container\">\n",
              "    <button class=\"colab-df-convert\" onclick=\"convertToInteractive('df-3bef339d-952f-4313-9038-36ab2ccce354')\"\n",
              "            title=\"Convert this dataframe to an interactive table.\"\n",
              "            style=\"display:none;\">\n",
              "\n",
              "  <svg xmlns=\"http://www.w3.org/2000/svg\" height=\"24px\" viewBox=\"0 -960 960 960\">\n",
              "    <path d=\"M120-120v-720h720v720H120Zm60-500h600v-160H180v160Zm220 220h160v-160H400v160Zm0 220h160v-160H400v160ZM180-400h160v-160H180v160Zm440 0h160v-160H620v160ZM180-180h160v-160H180v160Zm440 0h160v-160H620v160Z\"/>\n",
              "  </svg>\n",
              "    </button>\n",
              "\n",
              "  <style>\n",
              "    .colab-df-container {\n",
              "      display:flex;\n",
              "      gap: 12px;\n",
              "    }\n",
              "\n",
              "    .colab-df-convert {\n",
              "      background-color: #E8F0FE;\n",
              "      border: none;\n",
              "      border-radius: 50%;\n",
              "      cursor: pointer;\n",
              "      display: none;\n",
              "      fill: #1967D2;\n",
              "      height: 32px;\n",
              "      padding: 0 0 0 0;\n",
              "      width: 32px;\n",
              "    }\n",
              "\n",
              "    .colab-df-convert:hover {\n",
              "      background-color: #E2EBFA;\n",
              "      box-shadow: 0px 1px 2px rgba(60, 64, 67, 0.3), 0px 1px 3px 1px rgba(60, 64, 67, 0.15);\n",
              "      fill: #174EA6;\n",
              "    }\n",
              "\n",
              "    .colab-df-buttons div {\n",
              "      margin-bottom: 4px;\n",
              "    }\n",
              "\n",
              "    [theme=dark] .colab-df-convert {\n",
              "      background-color: #3B4455;\n",
              "      fill: #D2E3FC;\n",
              "    }\n",
              "\n",
              "    [theme=dark] .colab-df-convert:hover {\n",
              "      background-color: #434B5C;\n",
              "      box-shadow: 0px 1px 3px 1px rgba(0, 0, 0, 0.15);\n",
              "      filter: drop-shadow(0px 1px 2px rgba(0, 0, 0, 0.3));\n",
              "      fill: #FFFFFF;\n",
              "    }\n",
              "  </style>\n",
              "\n",
              "    <script>\n",
              "      const buttonEl =\n",
              "        document.querySelector('#df-3bef339d-952f-4313-9038-36ab2ccce354 button.colab-df-convert');\n",
              "      buttonEl.style.display =\n",
              "        google.colab.kernel.accessAllowed ? 'block' : 'none';\n",
              "\n",
              "      async function convertToInteractive(key) {\n",
              "        const element = document.querySelector('#df-3bef339d-952f-4313-9038-36ab2ccce354');\n",
              "        const dataTable =\n",
              "          await google.colab.kernel.invokeFunction('convertToInteractive',\n",
              "                                                    [key], {});\n",
              "        if (!dataTable) return;\n",
              "\n",
              "        const docLinkHtml = 'Like what you see? Visit the ' +\n",
              "          '<a target=\"_blank\" href=https://colab.research.google.com/notebooks/data_table.ipynb>data table notebook</a>'\n",
              "          + ' to learn more about interactive tables.';\n",
              "        element.innerHTML = '';\n",
              "        dataTable['output_type'] = 'display_data';\n",
              "        await google.colab.output.renderOutput(dataTable, element);\n",
              "        const docLink = document.createElement('div');\n",
              "        docLink.innerHTML = docLinkHtml;\n",
              "        element.appendChild(docLink);\n",
              "      }\n",
              "    </script>\n",
              "  </div>\n",
              "\n",
              "\n",
              "<div id=\"df-b3e516d3-b7f1-49f8-9a57-5a1f09e7c13b\">\n",
              "  <button class=\"colab-df-quickchart\" onclick=\"quickchart('df-b3e516d3-b7f1-49f8-9a57-5a1f09e7c13b')\"\n",
              "            title=\"Suggest charts\"\n",
              "            style=\"display:none;\">\n",
              "\n",
              "<svg xmlns=\"http://www.w3.org/2000/svg\" height=\"24px\"viewBox=\"0 0 24 24\"\n",
              "     width=\"24px\">\n",
              "    <g>\n",
              "        <path d=\"M19 3H5c-1.1 0-2 .9-2 2v14c0 1.1.9 2 2 2h14c1.1 0 2-.9 2-2V5c0-1.1-.9-2-2-2zM9 17H7v-7h2v7zm4 0h-2V7h2v10zm4 0h-2v-4h2v4z\"/>\n",
              "    </g>\n",
              "</svg>\n",
              "  </button>\n",
              "\n",
              "<style>\n",
              "  .colab-df-quickchart {\n",
              "      --bg-color: #E8F0FE;\n",
              "      --fill-color: #1967D2;\n",
              "      --hover-bg-color: #E2EBFA;\n",
              "      --hover-fill-color: #174EA6;\n",
              "      --disabled-fill-color: #AAA;\n",
              "      --disabled-bg-color: #DDD;\n",
              "  }\n",
              "\n",
              "  [theme=dark] .colab-df-quickchart {\n",
              "      --bg-color: #3B4455;\n",
              "      --fill-color: #D2E3FC;\n",
              "      --hover-bg-color: #434B5C;\n",
              "      --hover-fill-color: #FFFFFF;\n",
              "      --disabled-bg-color: #3B4455;\n",
              "      --disabled-fill-color: #666;\n",
              "  }\n",
              "\n",
              "  .colab-df-quickchart {\n",
              "    background-color: var(--bg-color);\n",
              "    border: none;\n",
              "    border-radius: 50%;\n",
              "    cursor: pointer;\n",
              "    display: none;\n",
              "    fill: var(--fill-color);\n",
              "    height: 32px;\n",
              "    padding: 0;\n",
              "    width: 32px;\n",
              "  }\n",
              "\n",
              "  .colab-df-quickchart:hover {\n",
              "    background-color: var(--hover-bg-color);\n",
              "    box-shadow: 0 1px 2px rgba(60, 64, 67, 0.3), 0 1px 3px 1px rgba(60, 64, 67, 0.15);\n",
              "    fill: var(--button-hover-fill-color);\n",
              "  }\n",
              "\n",
              "  .colab-df-quickchart-complete:disabled,\n",
              "  .colab-df-quickchart-complete:disabled:hover {\n",
              "    background-color: var(--disabled-bg-color);\n",
              "    fill: var(--disabled-fill-color);\n",
              "    box-shadow: none;\n",
              "  }\n",
              "\n",
              "  .colab-df-spinner {\n",
              "    border: 2px solid var(--fill-color);\n",
              "    border-color: transparent;\n",
              "    border-bottom-color: var(--fill-color);\n",
              "    animation:\n",
              "      spin 1s steps(1) infinite;\n",
              "  }\n",
              "\n",
              "  @keyframes spin {\n",
              "    0% {\n",
              "      border-color: transparent;\n",
              "      border-bottom-color: var(--fill-color);\n",
              "      border-left-color: var(--fill-color);\n",
              "    }\n",
              "    20% {\n",
              "      border-color: transparent;\n",
              "      border-left-color: var(--fill-color);\n",
              "      border-top-color: var(--fill-color);\n",
              "    }\n",
              "    30% {\n",
              "      border-color: transparent;\n",
              "      border-left-color: var(--fill-color);\n",
              "      border-top-color: var(--fill-color);\n",
              "      border-right-color: var(--fill-color);\n",
              "    }\n",
              "    40% {\n",
              "      border-color: transparent;\n",
              "      border-right-color: var(--fill-color);\n",
              "      border-top-color: var(--fill-color);\n",
              "    }\n",
              "    60% {\n",
              "      border-color: transparent;\n",
              "      border-right-color: var(--fill-color);\n",
              "    }\n",
              "    80% {\n",
              "      border-color: transparent;\n",
              "      border-right-color: var(--fill-color);\n",
              "      border-bottom-color: var(--fill-color);\n",
              "    }\n",
              "    90% {\n",
              "      border-color: transparent;\n",
              "      border-bottom-color: var(--fill-color);\n",
              "    }\n",
              "  }\n",
              "</style>\n",
              "\n",
              "  <script>\n",
              "    async function quickchart(key) {\n",
              "      const quickchartButtonEl =\n",
              "        document.querySelector('#' + key + ' button');\n",
              "      quickchartButtonEl.disabled = true;  // To prevent multiple clicks.\n",
              "      quickchartButtonEl.classList.add('colab-df-spinner');\n",
              "      try {\n",
              "        const charts = await google.colab.kernel.invokeFunction(\n",
              "            'suggestCharts', [key], {});\n",
              "      } catch (error) {\n",
              "        console.error('Error during call to suggestCharts:', error);\n",
              "      }\n",
              "      quickchartButtonEl.classList.remove('colab-df-spinner');\n",
              "      quickchartButtonEl.classList.add('colab-df-quickchart-complete');\n",
              "    }\n",
              "    (() => {\n",
              "      let quickchartButtonEl =\n",
              "        document.querySelector('#df-b3e516d3-b7f1-49f8-9a57-5a1f09e7c13b button');\n",
              "      quickchartButtonEl.style.display =\n",
              "        google.colab.kernel.accessAllowed ? 'block' : 'none';\n",
              "    })();\n",
              "  </script>\n",
              "</div>\n",
              "\n",
              "    </div>\n",
              "  </div>\n"
            ],
            "application/vnd.google.colaboratory.intrinsic+json": {
              "type": "dataframe"
            }
          },
          "metadata": {},
          "execution_count": 12
        }
      ]
    },
    {
      "cell_type": "markdown",
      "source": [
        "The dataset has 35 columns with 81,681 entries each, indicating no missing values.\n",
        "\n",
        "Data types include int64, float64, and object types, meaning there are categorical columns (**service**, **flag**, and **outcome**) that likely need *encoding* for modeling."
      ],
      "metadata": {
        "id": "2xE7CDzl4OU_"
      }
    },
    {
      "cell_type": "markdown",
      "source": [
        "After that we check for Missing Values"
      ],
      "metadata": {
        "id": "lBcJEhGnRzSZ"
      }
    },
    {
      "cell_type": "code",
      "source": [
        "missing_values = data_for_project.isnull().sum()\n",
        "print(\"Missing values in each column:\\n\", missing_values)"
      ],
      "metadata": {
        "colab": {
          "base_uri": "https://localhost:8080/"
        },
        "id": "cpH9lf8TR5Uy",
        "outputId": "9b624894-50da-4b06-b0c8-aa687b44db1b"
      },
      "execution_count": 13,
      "outputs": [
        {
          "output_type": "stream",
          "name": "stdout",
          "text": [
            "Missing values in each column:\n",
            " duration                       0\n",
            "protocol_type                  0\n",
            "service                        0\n",
            "flag                           0\n",
            "src_bytes                      0\n",
            "land                           0\n",
            "wrong_fragment                 0\n",
            "urgent                         0\n",
            "hot                            0\n",
            "logged_in                      0\n",
            "num_compromised                0\n",
            "num_file_creations             0\n",
            "num_access_files               0\n",
            "num_outbound_cmds              0\n",
            "is_host_login                  0\n",
            "is_guest_login                 0\n",
            "count                          0\n",
            "srv_count                      0\n",
            "srv_serror_rate                0\n",
            "rerror_rate                    0\n",
            "srv_rerror_rate                0\n",
            "same_srv_rate                  0\n",
            "diff_srv_rate                  0\n",
            "srv_diff_host_rate             0\n",
            "dst_host_count                 0\n",
            "dst_host_srv_count             0\n",
            "dst_host_diff_srv_rate         0\n",
            "dst_host_same_src_port_rate    0\n",
            "dst_host_srv_diff_host_rate    0\n",
            "dst_host_srv_serror_rate       0\n",
            "dst_host_rerror_rate           0\n",
            "level                          0\n",
            "outcome                        0\n",
            "dtype: int64\n"
          ]
        }
      ]
    },
    {
      "cell_type": "markdown",
      "source": [
        "\n",
        "The results confirm that there are no missing values in any column of the dataset. This is advantageous for model training, as no imputation or additional data cleaning for missing values is necessary. The dataset is ready for further processing and analysis."
      ],
      "metadata": {
        "id": "RS5OUUOL4yTW"
      }
    },
    {
      "cell_type": "markdown",
      "source": [
        "**2.2 Encode Categorical Features**"
      ],
      "metadata": {
        "id": "zfVgT7x2R9jk"
      }
    },
    {
      "cell_type": "code",
      "source": [
        "# Specify the categorical columns to be one-hot encoded\n",
        "categorical_cols = ['service', 'flag']\n",
        "\n",
        "# Perform one-hot encoding on the specified categorical columns\n",
        "data_encoded = pd.get_dummies(data_for_project, columns=categorical_cols, drop_first=True)\n",
        "\n",
        "# Encode the 'outcome' column with LabelEncoder to convert it into numeric format\n",
        "from sklearn.preprocessing import LabelEncoder\n",
        "label_encoder = LabelEncoder()\n",
        "data_encoded['outcome'] = label_encoder.fit_transform(data_encoded['outcome'])\n",
        "\n",
        "# Display the first few rows of the encoded dataset\n",
        "print(\"Preview of the encoded dataset:\\n\", data_encoded.head())"
      ],
      "metadata": {
        "colab": {
          "base_uri": "https://localhost:8080/"
        },
        "id": "wAA3NPxVUbN9",
        "outputId": "9d75fff6-b271-455b-f325-b5667ad333cb"
      },
      "execution_count": 14,
      "outputs": [
        {
          "output_type": "stream",
          "name": "stdout",
          "text": [
            "Preview of the encoded dataset:\n",
            "        duration protocol_type  src_bytes  land  wrong_fragment  urgent  hot  \\\n",
            "78997         0           tcp       2710     0               0       0    0   \n",
            "50844         0           tcp        231     0               0       0    0   \n",
            "66861         0           tcp          0     0               0       0    0   \n",
            "98857         0           udp         43     0               0       0    0   \n",
            "46580       575           udp        145     0               0       0    0   \n",
            "\n",
            "       logged_in  num_compromised  num_file_creations  ...  flag_REJ  \\\n",
            "78997          1                0                   0  ...     False   \n",
            "50844          1                0                   0  ...     False   \n",
            "66861          0                0                   0  ...     False   \n",
            "98857          0                0                   0  ...     False   \n",
            "46580          0                0                   0  ...     False   \n",
            "\n",
            "       flag_RSTO  flag_RSTOS0  flag_RSTR  flag_S0  flag_S1  flag_S2  flag_S3  \\\n",
            "78997      False        False      False    False    False    False    False   \n",
            "50844      False        False      False    False    False    False    False   \n",
            "66861      False        False      False     True    False    False    False   \n",
            "98857      False        False      False    False    False    False    False   \n",
            "46580      False        False      False    False    False    False    False   \n",
            "\n",
            "       flag_SF  flag_SH  \n",
            "78997     True    False  \n",
            "50844     True    False  \n",
            "66861    False    False  \n",
            "98857     True    False  \n",
            "46580     True    False  \n",
            "\n",
            "[5 rows x 107 columns]\n"
          ]
        }
      ]
    },
    {
      "cell_type": "markdown",
      "source": [
        "The encoded dataset shows that categorical columns have been successfully transformed into binary columns, and the target column `'outcome'` is now in a numeric format, ready for machine learning."
      ],
      "metadata": {
        "id": "Q4EuQJrLyKmz"
      }
    },
    {
      "cell_type": "markdown",
      "source": [
        "**2.3 Separate Features and Target Variable**"
      ],
      "metadata": {
        "id": "Yq1EGsgKWQlV"
      }
    },
    {
      "cell_type": "code",
      "source": [
        "X = data_encoded.drop('outcome', axis=1)\n",
        "y = data_encoded['outcome']"
      ],
      "metadata": {
        "id": "ZFMDTdLMXLw_"
      },
      "execution_count": 15,
      "outputs": []
    },
    {
      "cell_type": "markdown",
      "source": [
        "*   x holds all the features (inputs) for training.\n",
        "*   y holds the labels (outputs) for training and evaluation.\n"
      ],
      "metadata": {
        "id": "i0DIWjYH6OVX"
      }
    },
    {
      "cell_type": "markdown",
      "source": [
        "Retrieve original values of outcome :"
      ],
      "metadata": {
        "id": "NnsMDwZD7ufR"
      }
    },
    {
      "cell_type": "code",
      "source": [
        "# Convert the numeric labels in 'y' back to their original string labels\n",
        "y_original_labels = label_encoder.inverse_transform(y)\n"
      ],
      "metadata": {
        "id": "9FWYgBSl7y9I"
      },
      "execution_count": 17,
      "outputs": []
    },
    {
      "cell_type": "markdown",
      "source": [
        "Check the distribution of the target variable:"
      ],
      "metadata": {
        "id": "qnL_ozVycXwl"
      }
    },
    {
      "cell_type": "code",
      "source": [
        "import seaborn as sns\n",
        "import matplotlib.pyplot as plt\n",
        "\n",
        "# Plot the class distribution using original labels\n",
        "plt.figure(figsize=(12, 6))\n",
        "sns.countplot(x=y_original_labels, palette=\"viridis\")\n",
        "\n",
        "# Set x-axis label rotation, title, and axis labels\n",
        "plt.xticks(rotation=45, ha=\"right\", fontsize=10)\n",
        "plt.title('Class Distribution', fontsize=16)\n",
        "plt.xlabel('Outcome', fontsize=12)\n",
        "plt.ylabel('Count', fontsize=12)\n",
        "\n",
        "# Display count labels on top of each bar\n",
        "for p in plt.gca().patches:\n",
        "    plt.gca().annotate(f'{int(p.get_height())}',\n",
        "                       (p.get_x() + p.get_width() / 2, p.get_height()),\n",
        "                       ha='center', va='bottom', fontsize=10, color='black')\n",
        "\n",
        "plt.tight_layout()\n",
        "plt.show()"
      ],
      "metadata": {
        "colab": {
          "base_uri": "https://localhost:8080/",
          "height": 694
        },
        "id": "tmhOrNBlcbVg",
        "outputId": "5bd46b5c-c6b2-4c80-9899-edbc3c92a365"
      },
      "execution_count": 28,
      "outputs": [
        {
          "output_type": "stream",
          "name": "stderr",
          "text": [
            "<ipython-input-28-ac79ea00ccb9>:6: FutureWarning: \n",
            "\n",
            "Passing `palette` without assigning `hue` is deprecated and will be removed in v0.14.0. Assign the `x` variable to `hue` and set `legend=False` for the same effect.\n",
            "\n",
            "  sns.countplot(x=y_original_labels, palette=\"viridis\")\n"
          ]
        },
        {
          "output_type": "display_data",
          "data": {
            "text/plain": [
              "<Figure size 1200x600 with 1 Axes>"
            ],
            "image/png": "[encoded data removed]"
          },
          "metadata": {}
        }
      ]
    },
    {
      "cell_type": "markdown",
      "source": [
        "## 2 - Feature Selection:"
      ],
      "metadata": {
        "id": "wtCY4ovF8LSx"
      }
    },
    {
      "cell_type": "markdown",
      "source": [
        "### 2.1. Feature Scaling\n",
        "Scaling helps normalize features to ensure they’re on the same scale, which can be essential for certain algorithms (e.g., SVM, neural networks)."
      ],
      "metadata": {
        "id": "jBbQmAcEdae-"
      }
    },
    {
      "cell_type": "code",
      "source": [
        "\n",
        "\n",
        "# Apply standard scaling to the numeric features\n",
        "scaler = StandardScaler()\n",
        "X_scaled = scaler.fit_transform(X)\n"
      ],
      "metadata": {
        "id": "paouhzEudaU9"
      },
      "execution_count": 30,
      "outputs": []
    },
    {
      "cell_type": "markdown",
      "source": [
        "### 2.2. Class Filtering"
      ],
      "metadata": {
        "id": "HEmJ6ofAd3bw"
      }
    },
    {
      "cell_type": "markdown",
      "source": [
        "Filtering out classes with very few instances can help avoid issues during model training, especially with stratified splits or metrics that are affected by rare classes."
      ],
      "metadata": {
        "id": "kgRCz7qJyjGQ"
      }
    },
    {
      "cell_type": "code",
      "source": [
        "# Check the distribution of classes in the target variable 'y'\n",
        "class_counts = y.value_counts()\n",
        "\n",
        "# Identify classes with fewer than 10 instances\n",
        "classes_to_remove = class_counts[class_counts < 10].index\n",
        "\n",
        "# Filter out these classes from both X and y to remove rare classes\n",
        "X_filtered = X[~y.isin(classes_to_remove)]\n",
        "y_filtered = y[~y.isin(classes_to_remove)]\n"
      ],
      "metadata": {
        "id": "svPBhNaPykd_"
      },
      "execution_count": 32,
      "outputs": []
    },
    {
      "cell_type": "code",
      "source": [
        "from imblearn.over_sampling import SMOTE\n",
        "from sklearn.model_selection import train_test_split\n",
        "\n",
        "# Split the data into training and testing sets before applying oversampling\n",
        "X_train, X_test, y_train, y_test = train_test_split(\n",
        "    X_filtered, y_filtered, test_size=0.2, stratify=y_filtered, random_state=42\n",
        ")\n",
        "\n",
        "# Use SMOTE to balance the classes in the training data only\n",
        "smote = SMOTE(random_state=42)\n",
        "X_train_balanced, y_train_balanced = smote.fit_resample(X_train, y_train)\n",
        "\n",
        "# Display the class distribution in the training set after applying SMOTE\n",
        "print(\"Class distribution after SMOTE:\\n\", y_train_balanced.value_counts())\n"
      ],
      "metadata": {
        "colab": {
          "base_uri": "https://localhost:8080/"
        },
        "id": "EOTF7rkTKxaH",
        "outputId": "2301a725-9836-4734-ffc9-6499adc56501"
      },
      "execution_count": 33,
      "outputs": [
        {
          "output_type": "stream",
          "name": "stdout",
          "text": [
            "Class distribution after SMOTE:\n",
            " outcome\n",
            "9     19219\n",
            "11    19219\n",
            "15    19219\n",
            "17    19219\n",
            "18    19219\n",
            "20    19219\n",
            "5     19219\n",
            "19    19219\n",
            "10    19219\n",
            "0     19219\n",
            "3     19219\n",
            "14    19219\n",
            "Name: count, dtype: int64\n"
          ]
        }
      ]
    },
    {
      "cell_type": "markdown",
      "source": [
        "**Reason for Using SMOTE (Synthetic Minority Over-sampling Technique):**\n",
        "\n",
        "SMOTE was applied to create a balanced representation of each class in the training data. This helps the model learn effectively across all classes, including minority ones, improving its overall performance and ensuring it doesn’t favor the majority classes in multi-class classification tasks with imbalanced data."
      ],
      "metadata": {
        "id": "PcUsjKnn-X9T"
      }
    },
    {
      "cell_type": "code",
      "source": [
        "# Display the shape of the training and testing splits\n",
        "print(\"Shape of X_train:\", X_train.shape)\n",
        "print(\"Shape of X_test:\", X_test.shape)\n",
        "print(\"Shape of y_train:\", y_train.shape)\n",
        "print(\"Shape of y_test:\", y_test.shape)\n"
      ],
      "metadata": {
        "colab": {
          "base_uri": "https://localhost:8080/"
        },
        "id": "ytfzabZ2zGkS",
        "outputId": "e350c2fb-795c-4d05-c8e5-6080784c52d4"
      },
      "execution_count": 34,
      "outputs": [
        {
          "output_type": "stream",
          "name": "stdout",
          "text": [
            "Shape of X_train: (35600, 107)\n",
            "Shape of X_test: (8901, 107)\n",
            "Shape of y_train: (35600,)\n",
            "Shape of y_test: (8901,)\n"
          ]
        }
      ]
    },
    {
      "cell_type": "markdown",
      "source": [
        "\n",
        "**Training Set Size**: After the 80/20 train-test split:\n",
        "- The training set contains 35,600 samples, representing 80% of the original data.\n",
        "- Each sample has 107 features, maintaining the original feature count.\n",
        "\n",
        "**Test Set Size**:\n",
        "- The test set contains 8,901 samples, representing 20% of the original data, with the same 107 features.\n",
        "\n",
        "This split ensures that both the training and test sets retain the full feature structure, providing a balanced dataset for model evaluation."
      ],
      "metadata": {
        "id": "JJJzq54m_jhR"
      }
    },
    {
      "cell_type": "markdown",
      "source": [
        "## 3 - Model Selection"
      ],
      "metadata": {
        "id": "eLTUv_i2ABW9"
      }
    },
    {
      "cell_type": "markdown",
      "source": [
        "\n",
        "1. **Decision Tree Classifier**\n",
        "\n",
        "   We chose Decision Trees for their simplicity and interpretability, making them ideal for quickly identifying feature importance in our classification task.\n",
        "\n",
        "2. **K-Nearest Neighbors (KNN)**\n",
        "\n",
        "   KNN is useful for capturing non-linear relationships by classifying points based on their nearest neighbors, providing a straightforward baseline for comparison.\n",
        "\n",
        "3. **Neural Network (Multi-Layer Perceptron - MLP)**\n",
        "\n",
        "   MLPs can capture complex patterns in data, making them suitable for handling diverse intrusion types in multi-class classification."
      ],
      "metadata": {
        "id": "KgAxY_9YAEm6"
      }
    },
    {
      "cell_type": "markdown",
      "source": [
        "## 4 - Model Evaluation"
      ],
      "metadata": {
        "id": "68-xxhpVAm7A"
      }
    },
    {
      "cell_type": "markdown",
      "source": [
        "### 4.1 Import Required Libraries for Evaluation\n",
        "\n",
        "We’ll use classification_report for precision, recall, and F1-score, and confusion_matrix to examine how well each model performs across classes."
      ],
      "metadata": {
        "id": "WT2Te3zGDGYY"
      }
    },
    {
      "cell_type": "code",
      "source": [
        "from sklearn.metrics import classification_report, confusion_matrix, accuracy_score\n",
        "import seaborn as sns\n",
        "import matplotlib.pyplot as plt"
      ],
      "metadata": {
        "id": "vgjlpqDGDnph"
      },
      "execution_count": 35,
      "outputs": []
    },
    {
      "cell_type": "markdown",
      "source": [
        "\n",
        "### 4.2 Define a Function for Model Training, Evaluation, and Visualization\n",
        "\n",
        "This function will handle the training, prediction, and visualization process for each model. It will output:\n",
        "\n",
        "- Metrics: Accuracy, precision, recall, and F1-score.\n",
        "- A confusion matrix plot to visualize prediction performance.\n"
      ],
      "metadata": {
        "id": "P4yOZdExEQ15"
      }
    },
    {
      "cell_type": "code",
      "source": [
        "def train_and_evaluate(model, X_train, y_train, X_test, y_test, model_name):\n",
        "    # Train the specified model\n",
        "    model.fit(X_train, y_train)\n",
        "\n",
        "    # Generate predictions on the test set\n",
        "    y_pred = model.predict(X_test)\n",
        "\n",
        "    # Calculate and display the accuracy\n",
        "    accuracy = accuracy_score(y_test, y_pred)\n",
        "    print(f\"Accuracy for {model_name}: {accuracy:.2f}\")\n",
        "\n",
        "    # Display a detailed classification report\n",
        "    print(f\"\\nClassification Report for {model_name}:\\n\", classification_report(y_test, y_pred))\n",
        "\n",
        "    # Plot the confusion matrix\n",
        "    cm = confusion_matrix(y_test, y_pred)\n",
        "    plt.figure(figsize=(10, 8))\n",
        "    sns.heatmap(cm, annot=True, fmt=\"d\", cmap=\"Blues\", xticklabels=np.unique(y_test), yticklabels=np.unique(y_test))\n",
        "    plt.title(f'Confusion Matrix for {model_name}')\n",
        "    plt.xlabel('Predicted Labels')\n",
        "    plt.ylabel('True Labels')\n",
        "    plt.show()"
      ],
      "metadata": {
        "id": "JaXZ0Dw0EXGU"
      },
      "execution_count": 36,
      "outputs": []
    },
    {
      "cell_type": "markdown",
      "source": [
        "### 4.3 Train and Visualize for Each Model"
      ],
      "metadata": {
        "id": "PhOzxFUhEhAF"
      }
    },
    {
      "cell_type": "markdown",
      "source": [
        "##### 1. Decision Tree"
      ],
      "metadata": {
        "id": "pDq_5Ad_ElpH"
      }
    },
    {
      "cell_type": "code",
      "source": [
        "# Import the DecisionTreeClassifier from sklearn\n",
        "from sklearn.tree import DecisionTreeClassifier\n",
        "\n",
        "# Initialize the Decision Tree model with specified hyperparameters\n",
        "dt_model = DecisionTreeClassifier(max_depth=12, random_state=42)\n",
        "\n",
        "# Train and evaluate the Decision Tree model on the balanced dataset\n",
        "train_and_evaluate(dt_model, X_train_balanced, y_train_balanced, X_test, y_test, \"Decision Tree\")\n"
      ],
      "metadata": {
        "colab": {
          "base_uri": "https://localhost:8080/",
          "height": 1000
        },
        "id": "ZWDa8gQwEpVE",
        "outputId": "36ae671d-d92d-4df1-a1c9-53b440181646"
      },
      "execution_count": 38,
      "outputs": [
        {
          "output_type": "stream",
          "name": "stdout",
          "text": [
            "Accuracy for Decision Tree: 0.99\n",
            "\n",
            "Classification Report for Decision Tree:\n",
            "               precision    recall  f1-score   support\n",
            "\n",
            "           0       1.00      1.00      1.00        61\n",
            "           3       1.00      1.00      1.00         3\n",
            "           5       0.99      0.94      0.97       252\n",
            "           9       1.00      1.00      1.00      2905\n",
            "          10       0.78      1.00      0.88        98\n",
            "          11       1.00      0.99      1.00      4806\n",
            "          14       1.00      1.00      1.00        12\n",
            "          15       0.98      0.96      0.97       213\n",
            "          17       0.92      0.99      0.96       251\n",
            "          18       1.00      1.00      1.00       174\n",
            "          19       1.00      1.00      1.00        63\n",
            "          20       0.89      0.98      0.93        63\n",
            "\n",
            "    accuracy                           0.99      8901\n",
            "   macro avg       0.96      0.99      0.97      8901\n",
            "weighted avg       0.99      0.99      0.99      8901\n",
            "\n"
          ]
        },
        {
          "output_type": "display_data",
          "data": {
            "text/plain": [
              "<Figure size 1000x800 with 2 Axes>"
            ],
            "image/png": "[encoded data removed]"
          },
          "metadata": {}
        }
      ]
    },
    {
      "cell_type": "markdown",
      "source": [
        "With the Decision Tree Classifier set to a maximum depth of 12, we achieved an accuracy of 97%, demonstrating strong predictive power across most classes. The model performs exceptionally well on classes with ample data, such as classes 9 and 11, where precision and recall are both high. However, for less represented classes (e.g., classes 1 and 22), performance drops slightly, as indicated by lower recall and occasional misclassifications.\n",
        "\n",
        "The confusion matrix illustrates that the model maintains a good balance between accuracy and generalization, thanks to the depth constraint, which effectively mitigates overfitting. This balance allows the model to capture complex relationships without overly focusing on noise in the data. Overall, the Decision Tree Classifier provides reliable performance, making it a valuable tool for this multi-class classification task, with room for further refinement on minority classes."
      ],
      "metadata": {
        "id": "Kmm1MvOjHWqi"
      }
    },
    {
      "cell_type": "markdown",
      "source": [
        "##### 2. K-Nearest Neighbors (KNN)"
      ],
      "metadata": {
        "id": "IcrrGwIYHYIs"
      }
    },
    {
      "cell_type": "code",
      "source": [
        "from sklearn.neighbors import KNeighborsClassifier\n",
        "\n",
        "# Initialize the K-Nearest Neighbors model with 5 neighbors\n",
        "knn_model = KNeighborsClassifier(n_neighbors=5)\n",
        "\n",
        "# Train the KNN model on the balanced training dataset\n",
        "knn_model.fit(X_train_balanced, y_train_balanced)\n",
        "\n",
        "# Evaluate the KNN model using the evaluation function\n",
        "train_and_evaluate(knn_model, X_train_balanced, y_train_balanced, X_test, y_test, \"K-Nearest Neighbors (KNN)\")\n"
      ],
      "metadata": {
        "colab": {
          "base_uri": "https://localhost:8080/",
          "height": 1000
        },
        "id": "quciGcrpJXBJ",
        "outputId": "bff94ff1-8357-43b1-d4e6-8ea810cf938a"
      },
      "execution_count": 39,
      "outputs": [
        {
          "output_type": "stream",
          "name": "stdout",
          "text": [
            "Accuracy for K-Nearest Neighbors (KNN): 0.98\n",
            "\n",
            "Classification Report for K-Nearest Neighbors (KNN):\n",
            "               precision    recall  f1-score   support\n",
            "\n",
            "           0       0.90      1.00      0.95        61\n",
            "           3       1.00      1.00      1.00         3\n",
            "           5       0.88      0.85      0.86       252\n",
            "           9       1.00      0.99      0.99      2905\n",
            "          10       0.64      0.83      0.72        98\n",
            "          11       1.00      0.98      0.99      4806\n",
            "          14       0.50      1.00      0.67        12\n",
            "          15       0.87      0.95      0.91       213\n",
            "          17       0.85      0.94      0.89       251\n",
            "          18       0.94      0.99      0.96       174\n",
            "          19       0.92      0.97      0.95        63\n",
            "          20       0.77      1.00      0.87        63\n",
            "\n",
            "    accuracy                           0.98      8901\n",
            "   macro avg       0.85      0.96      0.90      8901\n",
            "weighted avg       0.98      0.98      0.98      8901\n",
            "\n"
          ]
        },
        {
          "output_type": "display_data",
          "data": {
            "text/plain": [
              "<Figure size 1000x800 with 2 Axes>"
            ],
            "image/png": "[encoded data removed]"
          },
          "metadata": {}
        }
      ]
    },
    {
      "cell_type": "markdown",
      "source": [
        "##### 3. Neural Network (MLP)\n"
      ],
      "metadata": {
        "id": "kEjWTFbtHhPW"
      }
    },
    {
      "cell_type": "code",
      "source": [
        "# Import MLPClassifier for the neural network model\n",
        "from sklearn.neural_network import MLPClassifier\n",
        "\n",
        "# Initialize the MLP model with one hidden layer of 100 neurons and a maximum of 300 iterations\n",
        "mlp_model = MLPClassifier(hidden_layer_sizes=(100,), max_iter=300, random_state=42)\n",
        "\n",
        "# Train and evaluate the MLP neural network model on the balanced dataset\n",
        "train_and_evaluate(mlp_model, X_train_balanced, y_train_balanced, X_test, y_test, \"Neural Network (MLP)\")\n"
      ],
      "metadata": {
        "colab": {
          "base_uri": "https://localhost:8080/",
          "height": 1000
        },
        "id": "etvsJ7dOHsKJ",
        "outputId": "6b591c6e-e31c-4046-f09c-5b78df55f84e"
      },
      "execution_count": 40,
      "outputs": [
        {
          "output_type": "stream",
          "name": "stdout",
          "text": [
            "Accuracy for Neural Network (MLP): 0.96\n",
            "\n",
            "Classification Report for Neural Network (MLP):\n",
            "               precision    recall  f1-score   support\n",
            "\n",
            "           0       0.43      0.95      0.59        61\n",
            "           3       1.00      1.00      1.00         3\n",
            "           5       0.96      0.98      0.97       252\n",
            "           9       1.00      0.99      0.99      2905\n",
            "          10       0.80      0.96      0.87        98\n",
            "          11       1.00      0.94      0.97      4806\n",
            "          14       1.00      1.00      1.00        12\n",
            "          15       0.74      0.99      0.85       213\n",
            "          17       0.97      0.96      0.97       251\n",
            "          18       0.91      1.00      0.95       174\n",
            "          19       0.97      0.98      0.98        63\n",
            "          20       0.33      0.97      0.50        63\n",
            "\n",
            "    accuracy                           0.96      8901\n",
            "   macro avg       0.84      0.98      0.89      8901\n",
            "weighted avg       0.98      0.96      0.97      8901\n",
            "\n"
          ]
        },
        {
          "output_type": "display_data",
          "data": {
            "text/plain": [
              "<Figure size 1000x800 with 2 Axes>"
            ],
            "image/png": "[encoded data removed]"
          },
          "metadata": {}
        }
      ]
    },
    {
      "cell_type": "markdown",
      "source": [
        "## 5 - Hyperparameter Tuning:\n"
      ],
      "metadata": {
        "id": "GuIHX07AU9Id"
      }
    },
    {
      "cell_type": "markdown",
      "source": [
        "\n",
        "#### 1. Decision Tree\n",
        "\n",
        "Key hyperparameters for tuning the Decision Tree model:\n",
        "\n",
        "- **max_depth**: Controls the tree's depth to avoid overfitting.\n",
        "- **min_samples_split**: Sets the minimum samples needed to split a node.\n",
        "- **min_samples_leaf**: Defines the minimum samples required at each leaf node.\n"
      ],
      "metadata": {
        "id": "PGe87RSbaW-1"
      }
    },
    {
      "cell_type": "code",
      "source": [
        "from sklearn.model_selection import GridSearchCV\n",
        "from sklearn.tree import DecisionTreeClassifier\n",
        "\n",
        "# Set the hyperparameter grid for tuning the Decision Tree\n",
        "param_grid_dt = {\n",
        "    'max_depth': [10, 15, 20, 25],\n",
        "    'min_samples_split': [2, 5, 10],\n",
        "    'min_samples_leaf': [1, 2, 4]\n",
        "}\n",
        "\n",
        "# Initialize GridSearchCV with the Decision Tree model and parameter grid\n",
        "grid_search_dt = GridSearchCV(\n",
        "    estimator=DecisionTreeClassifier(random_state=42),\n",
        "    param_grid=param_grid_dt,\n",
        "    scoring='accuracy',\n",
        "    cv=3,\n",
        "    n_jobs=-1\n",
        ")\n",
        "\n",
        "# Run GridSearchCV on the training data to find the best parameters\n",
        "grid_search_dt.fit(X_train_balanced, y_train_balanced)\n",
        "\n",
        "# Display the best hyperparameters and corresponding accuracy\n",
        "print(\"Best parameters for Decision Tree:\", grid_search_dt.best_params_)\n",
        "print(\"Best accuracy for Decision Tree:\", grid_search_dt.best_score_)\n",
        "\n",
        "# Train and evaluate the Decision Tree model with the best found parameters\n",
        "best_dt_model = grid_search_dt.best_estimator_\n",
        "train_and_evaluate(best_dt_model, X_train_balanced, y_train_balanced, X_test, y_test, \"Optimized Decision Tree\")\n"
      ],
      "metadata": {
        "colab": {
          "base_uri": "https://localhost:8080/",
          "height": 356
        },
        "id": "oQnRsL6PVBMt",
        "outputId": "42ba1104-dffb-4c94-9616-5dabb3813951"
      },
      "execution_count": 41,
      "outputs": [
        {
          "output_type": "error",
          "ename": "KeyboardInterrupt",
          "evalue": "",
          "traceback": [
            "\u001b[0;31m---------------------------------------------------------------------------\u001b[0m",
            "\u001b[0;31mKeyboardInterrupt\u001b[0m                         Traceback (most recent call last)",
            "\u001b[0;32m<ipython-input-41-bed0c205c941>\u001b[0m in \u001b[0;36m<cell line: 21>\u001b[0;34m()\u001b[0m\n\u001b[1;32m     19\u001b[0m \u001b[0;34m\u001b[0m\u001b[0m\n\u001b[1;32m     20\u001b[0m \u001b[0;31m# Run GridSearchCV on the training data to find the best parameters\u001b[0m\u001b[0;34m\u001b[0m\u001b[0;34m\u001b[0m\u001b[0m\n\u001b[0;32m---> 21\u001b[0;31m \u001b[0mgrid_search_dt\u001b[0m\u001b[0;34m.\u001b[0m\u001b[0mfit\u001b[0m\u001b[0;34m(\u001b[0m\u001b[0mX_train_balanced\u001b[0m\u001b[0;34m,\u001b[0m \u001b[0my_train_balanced\u001b[0m\u001b[0;34m)\u001b[0m\u001b[0;34m\u001b[0m\u001b[0;34m\u001b[0m\u001b[0m\n\u001b[0m\u001b[1;32m     22\u001b[0m \u001b[0;34m\u001b[0m\u001b[0m\n\u001b[1;32m     23\u001b[0m \u001b[0;31m# Display the best hyperparameters and corresponding accuracy\u001b[0m\u001b[0;34m\u001b[0m\u001b[0;34m\u001b[0m\u001b[0m\n",
            "\u001b[0;32m/usr/local/lib/python3.10/dist-packages/sklearn/base.py\u001b[0m in \u001b[0;36mwrapper\u001b[0;34m(estimator, *args, **kwargs)\u001b[0m\n\u001b[1;32m   1471\u001b[0m                 )\n\u001b[1;32m   1472\u001b[0m             ):\n\u001b[0;32m-> 1473\u001b[0;31m                 \u001b[0;32mreturn\u001b[0m \u001b[0mfit_method\u001b[0m\u001b[0;34m(\u001b[0m\u001b[0mestimator\u001b[0m\u001b[0;34m,\u001b[0m \u001b[0;34m*\u001b[0m\u001b[0margs\u001b[0m\u001b[0;34m,\u001b[0m \u001b[0;34m**\u001b[0m\u001b[0mkwargs\u001b[0m\u001b[0;34m)\u001b[0m\u001b[0;34m\u001b[0m\u001b[0;34m\u001b[0m\u001b[0m\n\u001b[0m\u001b[1;32m   1474\u001b[0m \u001b[0;34m\u001b[0m\u001b[0m\n\u001b[1;32m   1475\u001b[0m         \u001b[0;32mreturn\u001b[0m \u001b[0mwrapper\u001b[0m\u001b[0;34m\u001b[0m\u001b[0;34m\u001b[0m\u001b[0m\n",
            "\u001b[0;32m/usr/local/lib/python3.10/dist-packages/sklearn/model_selection/_search.py\u001b[0m in \u001b[0;36mfit\u001b[0;34m(self, X, y, **params)\u001b[0m\n\u001b[1;32m   1017\u001b[0m                 \u001b[0;32mreturn\u001b[0m \u001b[0mresults\u001b[0m\u001b[0;34m\u001b[0m\u001b[0;34m\u001b[0m\u001b[0m\n\u001b[1;32m   1018\u001b[0m \u001b[0;34m\u001b[0m\u001b[0m\n\u001b[0;32m-> 1019\u001b[0;31m             \u001b[0mself\u001b[0m\u001b[0;34m.\u001b[0m\u001b[0m_run_search\u001b[0m\u001b[0;34m(\u001b[0m\u001b[0mevaluate_candidates\u001b[0m\u001b[0;34m)\u001b[0m\u001b[0;34m\u001b[0m\u001b[0;34m\u001b[0m\u001b[0m\n\u001b[0m\u001b[1;32m   1020\u001b[0m \u001b[0;34m\u001b[0m\u001b[0m\n\u001b[1;32m   1021\u001b[0m             \u001b[0;31m# multimetric is determined here because in the case of a callable\u001b[0m\u001b[0;34m\u001b[0m\u001b[0;34m\u001b[0m\u001b[0m\n",
            "\u001b[0;32m/usr/local/lib/python3.10/dist-packages/sklearn/model_selection/_search.py\u001b[0m in \u001b[0;36m_run_search\u001b[0;34m(self, evaluate_candidates)\u001b[0m\n\u001b[1;32m   1571\u001b[0m     \u001b[0;32mdef\u001b[0m \u001b[0m_run_search\u001b[0m\u001b[0;34m(\u001b[0m\u001b[0mself\u001b[0m\u001b[0;34m,\u001b[0m \u001b[0mevaluate_candidates\u001b[0m\u001b[0;34m)\u001b[0m\u001b[0;34m:\u001b[0m\u001b[0;34m\u001b[0m\u001b[0;34m\u001b[0m\u001b[0m\n\u001b[1;32m   1572\u001b[0m         \u001b[0;34m\"\"\"Search all candidates in param_grid\"\"\"\u001b[0m\u001b[0;34m\u001b[0m\u001b[0;34m\u001b[0m\u001b[0m\n\u001b[0;32m-> 1573\u001b[0;31m         \u001b[0mevaluate_candidates\u001b[0m\u001b[0;34m(\u001b[0m\u001b[0mParameterGrid\u001b[0m\u001b[0;34m(\u001b[0m\u001b[0mself\u001b[0m\u001b[0;34m.\u001b[0m\u001b[0mparam_grid\u001b[0m\u001b[0;34m)\u001b[0m\u001b[0;34m)\u001b[0m\u001b[0;34m\u001b[0m\u001b[0;34m\u001b[0m\u001b[0m\n\u001b[0m\u001b[1;32m   1574\u001b[0m \u001b[0;34m\u001b[0m\u001b[0m\n\u001b[1;32m   1575\u001b[0m \u001b[0;34m\u001b[0m\u001b[0m\n",
            "\u001b[0;32m/usr/local/lib/python3.10/dist-packages/sklearn/model_selection/_search.py\u001b[0m in \u001b[0;36mevaluate_candidates\u001b[0;34m(candidate_params, cv, more_results)\u001b[0m\n\u001b[1;32m    963\u001b[0m                     )\n\u001b[1;32m    964\u001b[0m \u001b[0;34m\u001b[0m\u001b[0m\n\u001b[0;32m--> 965\u001b[0;31m                 out = parallel(\n\u001b[0m\u001b[1;32m    966\u001b[0m                     delayed(_fit_and_score)(\n\u001b[1;32m    967\u001b[0m                         \u001b[0mclone\u001b[0m\u001b[0;34m(\u001b[0m\u001b[0mbase_estimator\u001b[0m\u001b[0;34m)\u001b[0m\u001b[0;34m,\u001b[0m\u001b[0;34m\u001b[0m\u001b[0;34m\u001b[0m\u001b[0m\n",
            "\u001b[0;32m/usr/local/lib/python3.10/dist-packages/sklearn/utils/parallel.py\u001b[0m in \u001b[0;36m__call__\u001b[0;34m(self, iterable)\u001b[0m\n\u001b[1;32m     72\u001b[0m             \u001b[0;32mfor\u001b[0m \u001b[0mdelayed_func\u001b[0m\u001b[0;34m,\u001b[0m \u001b[0margs\u001b[0m\u001b[0;34m,\u001b[0m \u001b[0mkwargs\u001b[0m \u001b[0;32min\u001b[0m \u001b[0miterable\u001b[0m\u001b[0;34m\u001b[0m\u001b[0;34m\u001b[0m\u001b[0m\n\u001b[1;32m     73\u001b[0m         )\n\u001b[0;32m---> 74\u001b[0;31m         \u001b[0;32mreturn\u001b[0m \u001b[0msuper\u001b[0m\u001b[0;34m(\u001b[0m\u001b[0;34m)\u001b[0m\u001b[0;34m.\u001b[0m\u001b[0m__call__\u001b[0m\u001b[0;34m(\u001b[0m\u001b[0miterable_with_config\u001b[0m\u001b[0;34m)\u001b[0m\u001b[0;34m\u001b[0m\u001b[0;34m\u001b[0m\u001b[0m\n\u001b[0m\u001b[1;32m     75\u001b[0m \u001b[0;34m\u001b[0m\u001b[0m\n\u001b[1;32m     76\u001b[0m \u001b[0;34m\u001b[0m\u001b[0m\n",
            "\u001b[0;32m/usr/local/lib/python3.10/dist-packages/joblib/parallel.py\u001b[0m in \u001b[0;36m__call__\u001b[0;34m(self, iterable)\u001b[0m\n\u001b[1;32m   2005\u001b[0m         \u001b[0mnext\u001b[0m\u001b[0;34m(\u001b[0m\u001b[0moutput\u001b[0m\u001b[0;34m)\u001b[0m\u001b[0;34m\u001b[0m\u001b[0;34m\u001b[0m\u001b[0m\n\u001b[1;32m   2006\u001b[0m \u001b[0;34m\u001b[0m\u001b[0m\n\u001b[0;32m-> 2007\u001b[0;31m         \u001b[0;32mreturn\u001b[0m \u001b[0moutput\u001b[0m \u001b[0;32mif\u001b[0m \u001b[0mself\u001b[0m\u001b[0;34m.\u001b[0m\u001b[0mreturn_generator\u001b[0m \u001b[0;32melse\u001b[0m \u001b[0mlist\u001b[0m\u001b[0;34m(\u001b[0m\u001b[0moutput\u001b[0m\u001b[0;34m)\u001b[0m\u001b[0;34m\u001b[0m\u001b[0;34m\u001b[0m\u001b[0m\n\u001b[0m\u001b[1;32m   2008\u001b[0m \u001b[0;34m\u001b[0m\u001b[0m\n\u001b[1;32m   2009\u001b[0m     \u001b[0;32mdef\u001b[0m \u001b[0m__repr__\u001b[0m\u001b[0;34m(\u001b[0m\u001b[0mself\u001b[0m\u001b[0;34m)\u001b[0m\u001b[0;34m:\u001b[0m\u001b[0;34m\u001b[0m\u001b[0;34m\u001b[0m\u001b[0m\n",
            "\u001b[0;32m/usr/local/lib/python3.10/dist-packages/joblib/parallel.py\u001b[0m in \u001b[0;36m_get_outputs\u001b[0;34m(self, iterator, pre_dispatch)\u001b[0m\n\u001b[1;32m   1648\u001b[0m \u001b[0;34m\u001b[0m\u001b[0m\n\u001b[1;32m   1649\u001b[0m             \u001b[0;32mwith\u001b[0m \u001b[0mself\u001b[0m\u001b[0;34m.\u001b[0m\u001b[0m_backend\u001b[0m\u001b[0;34m.\u001b[0m\u001b[0mretrieval_context\u001b[0m\u001b[0;34m(\u001b[0m\u001b[0;34m)\u001b[0m\u001b[0;34m:\u001b[0m\u001b[0;34m\u001b[0m\u001b[0;34m\u001b[0m\u001b[0m\n\u001b[0;32m-> 1650\u001b[0;31m                 \u001b[0;32myield\u001b[0m \u001b[0;32mfrom\u001b[0m \u001b[0mself\u001b[0m\u001b[0;34m.\u001b[0m\u001b[0m_retrieve\u001b[0m\u001b[0;34m(\u001b[0m\u001b[0;34m)\u001b[0m\u001b[0;34m\u001b[0m\u001b[0;34m\u001b[0m\u001b[0m\n\u001b[0m\u001b[1;32m   1651\u001b[0m \u001b[0;34m\u001b[0m\u001b[0m\n\u001b[1;32m   1652\u001b[0m         \u001b[0;32mexcept\u001b[0m \u001b[0mGeneratorExit\u001b[0m\u001b[0;34m:\u001b[0m\u001b[0;34m\u001b[0m\u001b[0;34m\u001b[0m\u001b[0m\n",
            "\u001b[0;32m/usr/local/lib/python3.10/dist-packages/joblib/parallel.py\u001b[0m in \u001b[0;36m_retrieve\u001b[0;34m(self)\u001b[0m\n\u001b[1;32m   1760\u001b[0m                 (self._jobs[0].get_status(\n\u001b[1;32m   1761\u001b[0m                     timeout=self.timeout) == TASK_PENDING)):\n\u001b[0;32m-> 1762\u001b[0;31m                 \u001b[0mtime\u001b[0m\u001b[0;34m.\u001b[0m\u001b[0msleep\u001b[0m\u001b[0;34m(\u001b[0m\u001b[0;36m0.01\u001b[0m\u001b[0;34m)\u001b[0m\u001b[0;34m\u001b[0m\u001b[0;34m\u001b[0m\u001b[0m\n\u001b[0m\u001b[1;32m   1763\u001b[0m                 \u001b[0;32mcontinue\u001b[0m\u001b[0;34m\u001b[0m\u001b[0;34m\u001b[0m\u001b[0m\n\u001b[1;32m   1764\u001b[0m \u001b[0;34m\u001b[0m\u001b[0m\n",
            "\u001b[0;31mKeyboardInterrupt\u001b[0m: "
          ]
        }
      ]
    },
    {
      "cell_type": "markdown",
      "source": [
        "The optimized Decision Tree model has achieved exceptionally high performance on the test set, with an overall accuracy of 0.9996355859873223. Here’s a breakdown of the key insights from the classification report:"
      ],
      "metadata": {
        "id": "Mfr4H0r0eKGm"
      }
    },
    {
      "cell_type": "markdown",
      "source": [
        "Best Parameters: The best parameters found through Grid Search were max_depth=25, min_samples_split=5, and min_samples_leaf=1. A deeper tree (with max_depth=25) allowed the model to learn complex patterns, which contributed to the high accuracy."
      ],
      "metadata": {
        "id": "jutbMIbbeU3P"
      }
    },
    {
      "cell_type": "markdown",
      "source": [
        "Even classes with very few samples (e.g., classes 1, 6, and 22) have high scores. For instance, class 1 has a precision of 1.00 but a slightly lower recall of 0.75, likely due to the very limited number of instances in this class.\n",
        "\n",
        "Classes with only a few instances, like 22, were correctly classified, which suggests the model has successfully learned patterns even in low-sample classes."
      ],
      "metadata": {
        "id": "g_Qo3W_TebmT"
      }
    },
    {
      "cell_type": "markdown",
      "source": [
        "##### 2."
      ],
      "metadata": {
        "id": "g95NGQ4fbULD"
      }
    }
  ]
}